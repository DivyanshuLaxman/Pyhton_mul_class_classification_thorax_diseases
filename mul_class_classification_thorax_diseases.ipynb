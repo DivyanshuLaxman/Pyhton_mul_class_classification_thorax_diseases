{
 "cells": [
  {
   "cell_type": "code",
   "execution_count": 1,
   "id": "e801bb15",
   "metadata": {
    "execution": {
     "iopub.execute_input": "2024-01-21T18:53:55.309491Z",
     "iopub.status.busy": "2024-01-21T18:53:55.308211Z",
     "iopub.status.idle": "2024-01-21T18:53:58.024082Z",
     "shell.execute_reply": "2024-01-21T18:53:58.022730Z"
    },
    "papermill": {
     "duration": 2.732999,
     "end_time": "2024-01-21T18:53:58.027544",
     "exception": false,
     "start_time": "2024-01-21T18:53:55.294545",
     "status": "completed"
    },
    "tags": []
   },
   "outputs": [],
   "source": [
    "import pandas as pd\n",
    "from pathlib import Path\n",
    "from concurrent.futures import ThreadPoolExecutor\n",
    "import numpy as np\n",
    "import os\n",
    "import matplotlib.pyplot as plt\n",
    "import cv2\n",
    "from PIL import Image\n",
    "from sklearn.metrics import multilabel_confusion_matrix"
   ]
  },
  {
   "cell_type": "code",
   "execution_count": 2,
   "id": "2bf09929",
   "metadata": {
    "execution": {
     "iopub.execute_input": "2024-01-21T18:53:58.056765Z",
     "iopub.status.busy": "2024-01-21T18:53:58.055117Z",
     "iopub.status.idle": "2024-01-21T18:54:13.682246Z",
     "shell.execute_reply": "2024-01-21T18:54:13.680757Z"
    },
    "papermill": {
     "duration": 15.644615,
     "end_time": "2024-01-21T18:54:13.685653",
     "exception": false,
     "start_time": "2024-01-21T18:53:58.041038",
     "status": "completed"
    },
    "tags": []
   },
   "outputs": [],
   "source": [
    "import tensorflow as tf\n",
    "from keras.layers import GlobalMaxPooling2D\n",
    "from keras.layers import GlobalAveragePooling2D\n",
    "from keras.models import Model\n",
    "from keras.layers import Input\n",
    "from keras.layers import Concatenate\n",
    "from keras.layers import Flatten\n",
    "from keras.layers import Dense\n",
    "from keras.applications import VGG16, VGG19, ResNet50, ResNet101"
   ]
  },
  {
   "cell_type": "code",
   "execution_count": 3,
   "id": "eb0c2ffe",
   "metadata": {
    "execution": {
     "iopub.execute_input": "2024-01-21T18:54:13.711790Z",
     "iopub.status.busy": "2024-01-21T18:54:13.710500Z",
     "iopub.status.idle": "2024-01-21T18:54:15.129687Z",
     "shell.execute_reply": "2024-01-21T18:54:15.127746Z"
    },
    "papermill": {
     "duration": 1.434883,
     "end_time": "2024-01-21T18:54:15.132322",
     "exception": true,
     "start_time": "2024-01-21T18:54:13.697439",
     "status": "failed"
    },
    "tags": []
   },
   "outputs": [
    {
     "ename": "FileNotFoundError",
     "evalue": "[Errno 2] No such file or directory: '/kaggle/input/data/Data_Entry_2017.csv'",
     "output_type": "error",
     "traceback": [
      "\u001b[0;31m---------------------------------------------------------------------------\u001b[0m",
      "\u001b[0;31mFileNotFoundError\u001b[0m                         Traceback (most recent call last)",
      "Cell \u001b[0;32mIn[3], line 1\u001b[0m\n\u001b[0;32m----> 1\u001b[0m complete_data_info \u001b[38;5;241m=\u001b[39m \u001b[43mpd\u001b[49m\u001b[38;5;241;43m.\u001b[39;49m\u001b[43mread_csv\u001b[49m\u001b[43m(\u001b[49m\u001b[38;5;124;43m\"\u001b[39;49m\u001b[38;5;124;43m/kaggle/input/data/Data_Entry_2017.csv\u001b[39;49m\u001b[38;5;124;43m\"\u001b[39;49m\u001b[43m)\u001b[49m\n",
      "File \u001b[0;32m/opt/conda/lib/python3.10/site-packages/pandas/io/parsers/readers.py:912\u001b[0m, in \u001b[0;36mread_csv\u001b[0;34m(filepath_or_buffer, sep, delimiter, header, names, index_col, usecols, dtype, engine, converters, true_values, false_values, skipinitialspace, skiprows, skipfooter, nrows, na_values, keep_default_na, na_filter, verbose, skip_blank_lines, parse_dates, infer_datetime_format, keep_date_col, date_parser, date_format, dayfirst, cache_dates, iterator, chunksize, compression, thousands, decimal, lineterminator, quotechar, quoting, doublequote, escapechar, comment, encoding, encoding_errors, dialect, on_bad_lines, delim_whitespace, low_memory, memory_map, float_precision, storage_options, dtype_backend)\u001b[0m\n\u001b[1;32m    899\u001b[0m kwds_defaults \u001b[38;5;241m=\u001b[39m _refine_defaults_read(\n\u001b[1;32m    900\u001b[0m     dialect,\n\u001b[1;32m    901\u001b[0m     delimiter,\n\u001b[0;32m   (...)\u001b[0m\n\u001b[1;32m    908\u001b[0m     dtype_backend\u001b[38;5;241m=\u001b[39mdtype_backend,\n\u001b[1;32m    909\u001b[0m )\n\u001b[1;32m    910\u001b[0m kwds\u001b[38;5;241m.\u001b[39mupdate(kwds_defaults)\n\u001b[0;32m--> 912\u001b[0m \u001b[38;5;28;01mreturn\u001b[39;00m \u001b[43m_read\u001b[49m\u001b[43m(\u001b[49m\u001b[43mfilepath_or_buffer\u001b[49m\u001b[43m,\u001b[49m\u001b[43m \u001b[49m\u001b[43mkwds\u001b[49m\u001b[43m)\u001b[49m\n",
      "File \u001b[0;32m/opt/conda/lib/python3.10/site-packages/pandas/io/parsers/readers.py:577\u001b[0m, in \u001b[0;36m_read\u001b[0;34m(filepath_or_buffer, kwds)\u001b[0m\n\u001b[1;32m    574\u001b[0m _validate_names(kwds\u001b[38;5;241m.\u001b[39mget(\u001b[38;5;124m\"\u001b[39m\u001b[38;5;124mnames\u001b[39m\u001b[38;5;124m\"\u001b[39m, \u001b[38;5;28;01mNone\u001b[39;00m))\n\u001b[1;32m    576\u001b[0m \u001b[38;5;66;03m# Create the parser.\u001b[39;00m\n\u001b[0;32m--> 577\u001b[0m parser \u001b[38;5;241m=\u001b[39m \u001b[43mTextFileReader\u001b[49m\u001b[43m(\u001b[49m\u001b[43mfilepath_or_buffer\u001b[49m\u001b[43m,\u001b[49m\u001b[43m \u001b[49m\u001b[38;5;241;43m*\u001b[39;49m\u001b[38;5;241;43m*\u001b[39;49m\u001b[43mkwds\u001b[49m\u001b[43m)\u001b[49m\n\u001b[1;32m    579\u001b[0m \u001b[38;5;28;01mif\u001b[39;00m chunksize \u001b[38;5;129;01mor\u001b[39;00m iterator:\n\u001b[1;32m    580\u001b[0m     \u001b[38;5;28;01mreturn\u001b[39;00m parser\n",
      "File \u001b[0;32m/opt/conda/lib/python3.10/site-packages/pandas/io/parsers/readers.py:1407\u001b[0m, in \u001b[0;36mTextFileReader.__init__\u001b[0;34m(self, f, engine, **kwds)\u001b[0m\n\u001b[1;32m   1404\u001b[0m     \u001b[38;5;28mself\u001b[39m\u001b[38;5;241m.\u001b[39moptions[\u001b[38;5;124m\"\u001b[39m\u001b[38;5;124mhas_index_names\u001b[39m\u001b[38;5;124m\"\u001b[39m] \u001b[38;5;241m=\u001b[39m kwds[\u001b[38;5;124m\"\u001b[39m\u001b[38;5;124mhas_index_names\u001b[39m\u001b[38;5;124m\"\u001b[39m]\n\u001b[1;32m   1406\u001b[0m \u001b[38;5;28mself\u001b[39m\u001b[38;5;241m.\u001b[39mhandles: IOHandles \u001b[38;5;241m|\u001b[39m \u001b[38;5;28;01mNone\u001b[39;00m \u001b[38;5;241m=\u001b[39m \u001b[38;5;28;01mNone\u001b[39;00m\n\u001b[0;32m-> 1407\u001b[0m \u001b[38;5;28mself\u001b[39m\u001b[38;5;241m.\u001b[39m_engine \u001b[38;5;241m=\u001b[39m \u001b[38;5;28;43mself\u001b[39;49m\u001b[38;5;241;43m.\u001b[39;49m\u001b[43m_make_engine\u001b[49m\u001b[43m(\u001b[49m\u001b[43mf\u001b[49m\u001b[43m,\u001b[49m\u001b[43m \u001b[49m\u001b[38;5;28;43mself\u001b[39;49m\u001b[38;5;241;43m.\u001b[39;49m\u001b[43mengine\u001b[49m\u001b[43m)\u001b[49m\n",
      "File \u001b[0;32m/opt/conda/lib/python3.10/site-packages/pandas/io/parsers/readers.py:1661\u001b[0m, in \u001b[0;36mTextFileReader._make_engine\u001b[0;34m(self, f, engine)\u001b[0m\n\u001b[1;32m   1659\u001b[0m     \u001b[38;5;28;01mif\u001b[39;00m \u001b[38;5;124m\"\u001b[39m\u001b[38;5;124mb\u001b[39m\u001b[38;5;124m\"\u001b[39m \u001b[38;5;129;01mnot\u001b[39;00m \u001b[38;5;129;01min\u001b[39;00m mode:\n\u001b[1;32m   1660\u001b[0m         mode \u001b[38;5;241m+\u001b[39m\u001b[38;5;241m=\u001b[39m \u001b[38;5;124m\"\u001b[39m\u001b[38;5;124mb\u001b[39m\u001b[38;5;124m\"\u001b[39m\n\u001b[0;32m-> 1661\u001b[0m \u001b[38;5;28mself\u001b[39m\u001b[38;5;241m.\u001b[39mhandles \u001b[38;5;241m=\u001b[39m \u001b[43mget_handle\u001b[49m\u001b[43m(\u001b[49m\n\u001b[1;32m   1662\u001b[0m \u001b[43m    \u001b[49m\u001b[43mf\u001b[49m\u001b[43m,\u001b[49m\n\u001b[1;32m   1663\u001b[0m \u001b[43m    \u001b[49m\u001b[43mmode\u001b[49m\u001b[43m,\u001b[49m\n\u001b[1;32m   1664\u001b[0m \u001b[43m    \u001b[49m\u001b[43mencoding\u001b[49m\u001b[38;5;241;43m=\u001b[39;49m\u001b[38;5;28;43mself\u001b[39;49m\u001b[38;5;241;43m.\u001b[39;49m\u001b[43moptions\u001b[49m\u001b[38;5;241;43m.\u001b[39;49m\u001b[43mget\u001b[49m\u001b[43m(\u001b[49m\u001b[38;5;124;43m\"\u001b[39;49m\u001b[38;5;124;43mencoding\u001b[39;49m\u001b[38;5;124;43m\"\u001b[39;49m\u001b[43m,\u001b[49m\u001b[43m \u001b[49m\u001b[38;5;28;43;01mNone\u001b[39;49;00m\u001b[43m)\u001b[49m\u001b[43m,\u001b[49m\n\u001b[1;32m   1665\u001b[0m \u001b[43m    \u001b[49m\u001b[43mcompression\u001b[49m\u001b[38;5;241;43m=\u001b[39;49m\u001b[38;5;28;43mself\u001b[39;49m\u001b[38;5;241;43m.\u001b[39;49m\u001b[43moptions\u001b[49m\u001b[38;5;241;43m.\u001b[39;49m\u001b[43mget\u001b[49m\u001b[43m(\u001b[49m\u001b[38;5;124;43m\"\u001b[39;49m\u001b[38;5;124;43mcompression\u001b[39;49m\u001b[38;5;124;43m\"\u001b[39;49m\u001b[43m,\u001b[49m\u001b[43m \u001b[49m\u001b[38;5;28;43;01mNone\u001b[39;49;00m\u001b[43m)\u001b[49m\u001b[43m,\u001b[49m\n\u001b[1;32m   1666\u001b[0m \u001b[43m    \u001b[49m\u001b[43mmemory_map\u001b[49m\u001b[38;5;241;43m=\u001b[39;49m\u001b[38;5;28;43mself\u001b[39;49m\u001b[38;5;241;43m.\u001b[39;49m\u001b[43moptions\u001b[49m\u001b[38;5;241;43m.\u001b[39;49m\u001b[43mget\u001b[49m\u001b[43m(\u001b[49m\u001b[38;5;124;43m\"\u001b[39;49m\u001b[38;5;124;43mmemory_map\u001b[39;49m\u001b[38;5;124;43m\"\u001b[39;49m\u001b[43m,\u001b[49m\u001b[43m \u001b[49m\u001b[38;5;28;43;01mFalse\u001b[39;49;00m\u001b[43m)\u001b[49m\u001b[43m,\u001b[49m\n\u001b[1;32m   1667\u001b[0m \u001b[43m    \u001b[49m\u001b[43mis_text\u001b[49m\u001b[38;5;241;43m=\u001b[39;49m\u001b[43mis_text\u001b[49m\u001b[43m,\u001b[49m\n\u001b[1;32m   1668\u001b[0m \u001b[43m    \u001b[49m\u001b[43merrors\u001b[49m\u001b[38;5;241;43m=\u001b[39;49m\u001b[38;5;28;43mself\u001b[39;49m\u001b[38;5;241;43m.\u001b[39;49m\u001b[43moptions\u001b[49m\u001b[38;5;241;43m.\u001b[39;49m\u001b[43mget\u001b[49m\u001b[43m(\u001b[49m\u001b[38;5;124;43m\"\u001b[39;49m\u001b[38;5;124;43mencoding_errors\u001b[39;49m\u001b[38;5;124;43m\"\u001b[39;49m\u001b[43m,\u001b[49m\u001b[43m \u001b[49m\u001b[38;5;124;43m\"\u001b[39;49m\u001b[38;5;124;43mstrict\u001b[39;49m\u001b[38;5;124;43m\"\u001b[39;49m\u001b[43m)\u001b[49m\u001b[43m,\u001b[49m\n\u001b[1;32m   1669\u001b[0m \u001b[43m    \u001b[49m\u001b[43mstorage_options\u001b[49m\u001b[38;5;241;43m=\u001b[39;49m\u001b[38;5;28;43mself\u001b[39;49m\u001b[38;5;241;43m.\u001b[39;49m\u001b[43moptions\u001b[49m\u001b[38;5;241;43m.\u001b[39;49m\u001b[43mget\u001b[49m\u001b[43m(\u001b[49m\u001b[38;5;124;43m\"\u001b[39;49m\u001b[38;5;124;43mstorage_options\u001b[39;49m\u001b[38;5;124;43m\"\u001b[39;49m\u001b[43m,\u001b[49m\u001b[43m \u001b[49m\u001b[38;5;28;43;01mNone\u001b[39;49;00m\u001b[43m)\u001b[49m\u001b[43m,\u001b[49m\n\u001b[1;32m   1670\u001b[0m \u001b[43m\u001b[49m\u001b[43m)\u001b[49m\n\u001b[1;32m   1671\u001b[0m \u001b[38;5;28;01massert\u001b[39;00m \u001b[38;5;28mself\u001b[39m\u001b[38;5;241m.\u001b[39mhandles \u001b[38;5;129;01mis\u001b[39;00m \u001b[38;5;129;01mnot\u001b[39;00m \u001b[38;5;28;01mNone\u001b[39;00m\n\u001b[1;32m   1672\u001b[0m f \u001b[38;5;241m=\u001b[39m \u001b[38;5;28mself\u001b[39m\u001b[38;5;241m.\u001b[39mhandles\u001b[38;5;241m.\u001b[39mhandle\n",
      "File \u001b[0;32m/opt/conda/lib/python3.10/site-packages/pandas/io/common.py:859\u001b[0m, in \u001b[0;36mget_handle\u001b[0;34m(path_or_buf, mode, encoding, compression, memory_map, is_text, errors, storage_options)\u001b[0m\n\u001b[1;32m    854\u001b[0m \u001b[38;5;28;01melif\u001b[39;00m \u001b[38;5;28misinstance\u001b[39m(handle, \u001b[38;5;28mstr\u001b[39m):\n\u001b[1;32m    855\u001b[0m     \u001b[38;5;66;03m# Check whether the filename is to be opened in binary mode.\u001b[39;00m\n\u001b[1;32m    856\u001b[0m     \u001b[38;5;66;03m# Binary mode does not support 'encoding' and 'newline'.\u001b[39;00m\n\u001b[1;32m    857\u001b[0m     \u001b[38;5;28;01mif\u001b[39;00m ioargs\u001b[38;5;241m.\u001b[39mencoding \u001b[38;5;129;01mand\u001b[39;00m \u001b[38;5;124m\"\u001b[39m\u001b[38;5;124mb\u001b[39m\u001b[38;5;124m\"\u001b[39m \u001b[38;5;129;01mnot\u001b[39;00m \u001b[38;5;129;01min\u001b[39;00m ioargs\u001b[38;5;241m.\u001b[39mmode:\n\u001b[1;32m    858\u001b[0m         \u001b[38;5;66;03m# Encoding\u001b[39;00m\n\u001b[0;32m--> 859\u001b[0m         handle \u001b[38;5;241m=\u001b[39m \u001b[38;5;28;43mopen\u001b[39;49m\u001b[43m(\u001b[49m\n\u001b[1;32m    860\u001b[0m \u001b[43m            \u001b[49m\u001b[43mhandle\u001b[49m\u001b[43m,\u001b[49m\n\u001b[1;32m    861\u001b[0m \u001b[43m            \u001b[49m\u001b[43mioargs\u001b[49m\u001b[38;5;241;43m.\u001b[39;49m\u001b[43mmode\u001b[49m\u001b[43m,\u001b[49m\n\u001b[1;32m    862\u001b[0m \u001b[43m            \u001b[49m\u001b[43mencoding\u001b[49m\u001b[38;5;241;43m=\u001b[39;49m\u001b[43mioargs\u001b[49m\u001b[38;5;241;43m.\u001b[39;49m\u001b[43mencoding\u001b[49m\u001b[43m,\u001b[49m\n\u001b[1;32m    863\u001b[0m \u001b[43m            \u001b[49m\u001b[43merrors\u001b[49m\u001b[38;5;241;43m=\u001b[39;49m\u001b[43merrors\u001b[49m\u001b[43m,\u001b[49m\n\u001b[1;32m    864\u001b[0m \u001b[43m            \u001b[49m\u001b[43mnewline\u001b[49m\u001b[38;5;241;43m=\u001b[39;49m\u001b[38;5;124;43m\"\u001b[39;49m\u001b[38;5;124;43m\"\u001b[39;49m\u001b[43m,\u001b[49m\n\u001b[1;32m    865\u001b[0m \u001b[43m        \u001b[49m\u001b[43m)\u001b[49m\n\u001b[1;32m    866\u001b[0m     \u001b[38;5;28;01melse\u001b[39;00m:\n\u001b[1;32m    867\u001b[0m         \u001b[38;5;66;03m# Binary mode\u001b[39;00m\n\u001b[1;32m    868\u001b[0m         handle \u001b[38;5;241m=\u001b[39m \u001b[38;5;28mopen\u001b[39m(handle, ioargs\u001b[38;5;241m.\u001b[39mmode)\n",
      "\u001b[0;31mFileNotFoundError\u001b[0m: [Errno 2] No such file or directory: '/kaggle/input/data/Data_Entry_2017.csv'"
     ]
    }
   ],
   "source": [
    "complete_data_info = pd.read_csv(\"/kaggle/input/data/Data_Entry_2017.csv\")"
   ]
  },
  {
   "cell_type": "code",
   "execution_count": null,
   "id": "2427726d",
   "metadata": {
    "execution": {
     "iopub.execute_input": "2023-12-23T17:09:32.861925Z",
     "iopub.status.busy": "2023-12-23T17:09:32.861485Z",
     "iopub.status.idle": "2023-12-23T17:09:32.866556Z",
     "shell.execute_reply": "2023-12-23T17:09:32.865432Z",
     "shell.execute_reply.started": "2023-12-23T17:09:32.861888Z"
    },
    "papermill": {
     "duration": null,
     "end_time": null,
     "exception": null,
     "start_time": null,
     "status": "pending"
    },
    "tags": []
   },
   "outputs": [],
   "source": [
    "data_base_path = \"/kaggle/input/data\""
   ]
  },
  {
   "cell_type": "code",
   "execution_count": null,
   "id": "b2a5b917",
   "metadata": {
    "execution": {
     "iopub.execute_input": "2023-12-23T17:09:33.998610Z",
     "iopub.status.busy": "2023-12-23T17:09:33.997611Z",
     "iopub.status.idle": "2023-12-23T17:09:40.185606Z",
     "shell.execute_reply": "2023-12-23T17:09:40.184325Z",
     "shell.execute_reply.started": "2023-12-23T17:09:33.998557Z"
    },
    "papermill": {
     "duration": null,
     "end_time": null,
     "exception": null,
     "start_time": null,
     "status": "pending"
    },
    "tags": []
   },
   "outputs": [],
   "source": [
    "complete_data_imgs_paths = list()\n",
    "imgs_file_names = list()\n",
    "\n",
    "for single_img_path in Path(data_base_path).glob(\"images_*/images/*.png\"):\n",
    "    \n",
    "    complete_data_imgs_paths.append(str(single_img_path))\n",
    "    imgs_file_names.append(str(single_img_path.parts[-1]))"
   ]
  },
  {
   "cell_type": "code",
   "execution_count": null,
   "id": "8aa85838",
   "metadata": {
    "execution": {
     "iopub.execute_input": "2023-12-23T17:09:42.606657Z",
     "iopub.status.busy": "2023-12-23T17:09:42.605322Z",
     "iopub.status.idle": "2023-12-23T17:09:42.634675Z",
     "shell.execute_reply": "2023-12-23T17:09:42.633527Z",
     "shell.execute_reply.started": "2023-12-23T17:09:42.606613Z"
    },
    "papermill": {
     "duration": null,
     "end_time": null,
     "exception": null,
     "start_time": null,
     "status": "pending"
    },
    "tags": []
   },
   "outputs": [],
   "source": [
    "complete_data_path_info = pd.DataFrame(data={\"Image Index\":imgs_file_names,\n",
    "                                            \"Image Path\":complete_data_imgs_paths})"
   ]
  },
  {
   "cell_type": "code",
   "execution_count": null,
   "id": "64ce6146",
   "metadata": {
    "execution": {
     "iopub.execute_input": "2023-12-23T17:09:43.646067Z",
     "iopub.status.busy": "2023-12-23T17:09:43.645658Z",
     "iopub.status.idle": "2023-12-23T17:09:43.804872Z",
     "shell.execute_reply": "2023-12-23T17:09:43.803635Z",
     "shell.execute_reply.started": "2023-12-23T17:09:43.646035Z"
    },
    "papermill": {
     "duration": null,
     "end_time": null,
     "exception": null,
     "start_time": null,
     "status": "pending"
    },
    "tags": []
   },
   "outputs": [],
   "source": [
    "complete_data_all_info = complete_data_info.merge(complete_data_path_info,on=\"Image Index\")"
   ]
  },
  {
   "cell_type": "code",
   "execution_count": null,
   "id": "60981930",
   "metadata": {
    "execution": {
     "iopub.execute_input": "2023-12-23T17:09:44.737405Z",
     "iopub.status.busy": "2023-12-23T17:09:44.736951Z",
     "iopub.status.idle": "2023-12-23T17:09:44.760645Z",
     "shell.execute_reply": "2023-12-23T17:09:44.759228Z",
     "shell.execute_reply.started": "2023-12-23T17:09:44.737366Z"
    },
    "papermill": {
     "duration": null,
     "end_time": null,
     "exception": null,
     "start_time": null,
     "status": "pending"
    },
    "tags": []
   },
   "outputs": [],
   "source": [
    "complete_data_all_info.drop(complete_data_all_info.columns[2:6],axis=1,inplace=True)"
   ]
  },
  {
   "cell_type": "code",
   "execution_count": null,
   "id": "d86fd914",
   "metadata": {
    "execution": {
     "iopub.execute_input": "2023-12-23T17:09:46.142969Z",
     "iopub.status.busy": "2023-12-23T17:09:46.141858Z",
     "iopub.status.idle": "2023-12-23T17:09:46.162117Z",
     "shell.execute_reply": "2023-12-23T17:09:46.160816Z",
     "shell.execute_reply.started": "2023-12-23T17:09:46.142929Z"
    },
    "papermill": {
     "duration": null,
     "end_time": null,
     "exception": null,
     "start_time": null,
     "status": "pending"
    },
    "tags": []
   },
   "outputs": [],
   "source": [
    "complete_data_all_info.drop([\"Unnamed: 11\"],axis=1,inplace=True)"
   ]
  },
  {
   "cell_type": "code",
   "execution_count": null,
   "id": "24d1bf5d",
   "metadata": {
    "execution": {
     "iopub.execute_input": "2023-12-23T17:09:47.487469Z",
     "iopub.status.busy": "2023-12-23T17:09:47.487084Z",
     "iopub.status.idle": "2023-12-23T17:09:47.504379Z",
     "shell.execute_reply": "2023-12-23T17:09:47.502962Z",
     "shell.execute_reply.started": "2023-12-23T17:09:47.487440Z"
    },
    "papermill": {
     "duration": null,
     "end_time": null,
     "exception": null,
     "start_time": null,
     "status": "pending"
    },
    "tags": []
   },
   "outputs": [],
   "source": [
    "testing_data_info = pd.read_csv(\"/kaggle/input/data/BBox_List_2017.csv\")"
   ]
  },
  {
   "cell_type": "code",
   "execution_count": null,
   "id": "41cbae32",
   "metadata": {
    "execution": {
     "iopub.execute_input": "2023-12-23T17:09:48.415048Z",
     "iopub.status.busy": "2023-12-23T17:09:48.414086Z",
     "iopub.status.idle": "2023-12-23T17:09:48.444635Z",
     "shell.execute_reply": "2023-12-23T17:09:48.443353Z",
     "shell.execute_reply.started": "2023-12-23T17:09:48.415004Z"
    },
    "papermill": {
     "duration": null,
     "end_time": null,
     "exception": null,
     "start_time": null,
     "status": "pending"
    },
    "tags": []
   },
   "outputs": [],
   "source": [
    "complete_data_all_info = complete_data_all_info.set_index(\"Image Index\")"
   ]
  },
  {
   "cell_type": "code",
   "execution_count": null,
   "id": "c4c4e934",
   "metadata": {
    "execution": {
     "iopub.execute_input": "2023-12-23T17:09:49.534904Z",
     "iopub.status.busy": "2023-12-23T17:09:49.534496Z",
     "iopub.status.idle": "2023-12-23T17:09:49.559658Z",
     "shell.execute_reply": "2023-12-23T17:09:49.558448Z",
     "shell.execute_reply.started": "2023-12-23T17:09:49.534874Z"
    },
    "papermill": {
     "duration": null,
     "end_time": null,
     "exception": null,
     "start_time": null,
     "status": "pending"
    },
    "tags": []
   },
   "outputs": [],
   "source": [
    "testing_data_path_info = complete_data_all_info.loc[testing_data_info[\"Image Index\"]]"
   ]
  },
  {
   "cell_type": "code",
   "execution_count": null,
   "id": "f96c2f68",
   "metadata": {
    "execution": {
     "iopub.execute_input": "2023-12-23T17:09:50.430593Z",
     "iopub.status.busy": "2023-12-23T17:09:50.430208Z",
     "iopub.status.idle": "2023-12-23T17:09:50.464291Z",
     "shell.execute_reply": "2023-12-23T17:09:50.463087Z",
     "shell.execute_reply.started": "2023-12-23T17:09:50.430564Z"
    },
    "papermill": {
     "duration": null,
     "end_time": null,
     "exception": null,
     "start_time": null,
     "status": "pending"
    },
    "tags": []
   },
   "outputs": [],
   "source": [
    "training_data_all_info = complete_data_all_info.drop(index=testing_data_path_info.index)"
   ]
  },
  {
   "cell_type": "code",
   "execution_count": null,
   "id": "76dd0fba",
   "metadata": {
    "execution": {
     "iopub.execute_input": "2023-12-23T17:09:51.312133Z",
     "iopub.status.busy": "2023-12-23T17:09:51.311722Z",
     "iopub.status.idle": "2023-12-23T17:09:51.318690Z",
     "shell.execute_reply": "2023-12-23T17:09:51.317371Z",
     "shell.execute_reply.started": "2023-12-23T17:09:51.312096Z"
    },
    "papermill": {
     "duration": null,
     "end_time": null,
     "exception": null,
     "start_time": null,
     "status": "pending"
    },
    "tags": []
   },
   "outputs": [],
   "source": [
    "testing_data_path_info.reset_index(inplace=True)"
   ]
  },
  {
   "cell_type": "code",
   "execution_count": null,
   "id": "9013c0fa",
   "metadata": {
    "execution": {
     "iopub.execute_input": "2023-12-23T17:09:52.160277Z",
     "iopub.status.busy": "2023-12-23T17:09:52.159835Z",
     "iopub.status.idle": "2023-12-23T17:09:52.171793Z",
     "shell.execute_reply": "2023-12-23T17:09:52.170893Z",
     "shell.execute_reply.started": "2023-12-23T17:09:52.160240Z"
    },
    "papermill": {
     "duration": null,
     "end_time": null,
     "exception": null,
     "start_time": null,
     "status": "pending"
    },
    "tags": []
   },
   "outputs": [],
   "source": [
    "testing_data_all_info = testing_data_info.merge(testing_data_path_info,\n",
    "                                               on=\"Image Index\")"
   ]
  },
  {
   "cell_type": "code",
   "execution_count": null,
   "id": "b88a6fe8",
   "metadata": {
    "execution": {
     "iopub.execute_input": "2023-12-23T17:09:53.088520Z",
     "iopub.status.busy": "2023-12-23T17:09:53.088011Z",
     "iopub.status.idle": "2023-12-23T17:09:53.094966Z",
     "shell.execute_reply": "2023-12-23T17:09:53.093813Z",
     "shell.execute_reply.started": "2023-12-23T17:09:53.088480Z"
    },
    "papermill": {
     "duration": null,
     "end_time": null,
     "exception": null,
     "start_time": null,
     "status": "pending"
    },
    "tags": []
   },
   "outputs": [],
   "source": [
    "testing_data_all_info.drop(labels=testing_data_all_info.columns[6:9],axis=1,\n",
    "                          inplace=True)"
   ]
  },
  {
   "cell_type": "code",
   "execution_count": null,
   "id": "e1fd3c73",
   "metadata": {
    "execution": {
     "iopub.execute_input": "2023-12-23T17:09:54.015936Z",
     "iopub.status.busy": "2023-12-23T17:09:54.014929Z",
     "iopub.status.idle": "2023-12-23T17:09:54.295666Z",
     "shell.execute_reply": "2023-12-23T17:09:54.294385Z",
     "shell.execute_reply.started": "2023-12-23T17:09:54.015895Z"
    },
    "papermill": {
     "duration": null,
     "end_time": null,
     "exception": null,
     "start_time": null,
     "status": "pending"
    },
    "tags": []
   },
   "outputs": [],
   "source": [
    "training_data_all_info[\"Finding Labels\"] = training_data_all_info[\"Finding Labels\"].map(lambda x: x.split(\"|\"))\n",
    "testing_data_all_info[\"Finding Labels\"] = testing_data_all_info[\"Finding Labels\"].map(lambda x: x.split(\"|\"))"
   ]
  },
  {
   "cell_type": "code",
   "execution_count": null,
   "id": "827adad2",
   "metadata": {
    "execution": {
     "iopub.execute_input": "2023-12-23T17:09:55.538027Z",
     "iopub.status.busy": "2023-12-23T17:09:55.536579Z",
     "iopub.status.idle": "2023-12-23T17:10:46.797166Z",
     "shell.execute_reply": "2023-12-23T17:10:46.796032Z",
     "shell.execute_reply.started": "2023-12-23T17:09:55.537973Z"
    },
    "papermill": {
     "duration": null,
     "end_time": null,
     "exception": null,
     "start_time": null,
     "status": "pending"
    },
    "tags": []
   },
   "outputs": [],
   "source": [
    "merged_list = list()\n",
    "\n",
    "for single_list in training_data_all_info[\"Finding Labels\"]:\n",
    "    \n",
    "    merged_list = merged_list + single_list\n",
    "\n",
    "unique_diseases = set(merged_list)\n",
    "unique_diseases = list(unique_diseases)\n",
    "unique_diseases.remove(\"No Finding\")\n",
    "disease2idx = dict(zip(unique_diseases,range(0,len(unique_diseases))))"
   ]
  },
  {
   "cell_type": "code",
   "execution_count": null,
   "id": "ee46053f",
   "metadata": {
    "execution": {
     "iopub.execute_input": "2023-12-23T17:10:49.271995Z",
     "iopub.status.busy": "2023-12-23T17:10:49.271563Z",
     "iopub.status.idle": "2023-12-23T17:10:49.278245Z",
     "shell.execute_reply": "2023-12-23T17:10:49.276963Z",
     "shell.execute_reply.started": "2023-12-23T17:10:49.271961Z"
    },
    "papermill": {
     "duration": null,
     "end_time": null,
     "exception": null,
     "start_time": null,
     "status": "pending"
    },
    "tags": []
   },
   "outputs": [],
   "source": [
    "def map_diseases(disease_list):\n",
    "    \n",
    "    all_zeros = np.zeros(len(disease2idx),)\n",
    "    \n",
    "    for single_disease in disease_list:\n",
    "        \n",
    "        if single_disease != \"No Finding\":\n",
    "            all_zeros[disease2idx[single_disease]] = 1\n",
    "        \n",
    "    return all_zeros"
   ]
  },
  {
   "cell_type": "code",
   "execution_count": null,
   "id": "567a2338",
   "metadata": {
    "execution": {
     "iopub.execute_input": "2023-12-23T17:10:50.743219Z",
     "iopub.status.busy": "2023-12-23T17:10:50.742803Z",
     "iopub.status.idle": "2023-12-23T17:10:57.287454Z",
     "shell.execute_reply": "2023-12-23T17:10:57.286205Z",
     "shell.execute_reply.started": "2023-12-23T17:10:50.743181Z"
    },
    "papermill": {
     "duration": null,
     "end_time": null,
     "exception": null,
     "start_time": null,
     "status": "pending"
    },
    "tags": []
   },
   "outputs": [],
   "source": [
    "with ThreadPoolExecutor(max_workers=os.cpu_count()) as pool:\n",
    "    \n",
    "    multi_hot_encoded_Y_train = np.array(list(pool.map(map_diseases,training_data_all_info[\"Finding Labels\"])))\n",
    "    multi_hot_encoded_Y_test = np.array(list(pool.map(map_diseases,testing_data_all_info[\"Finding Labels\"])))"
   ]
  },
  {
   "cell_type": "code",
   "execution_count": null,
   "id": "e82ddb2f",
   "metadata": {
    "execution": {
     "iopub.execute_input": "2023-12-23T17:10:59.607905Z",
     "iopub.status.busy": "2023-12-23T17:10:59.607478Z",
     "iopub.status.idle": "2023-12-23T17:10:59.616861Z",
     "shell.execute_reply": "2023-12-23T17:10:59.615538Z",
     "shell.execute_reply.started": "2023-12-23T17:10:59.607872Z"
    },
    "papermill": {
     "duration": null,
     "end_time": null,
     "exception": null,
     "start_time": null,
     "status": "pending"
    },
    "tags": []
   },
   "outputs": [],
   "source": [
    "training_data_all_info.reset_index(inplace=True)"
   ]
  },
  {
   "cell_type": "code",
   "execution_count": null,
   "id": "c7ff0c94",
   "metadata": {
    "execution": {
     "iopub.execute_input": "2023-12-23T17:11:02.600154Z",
     "iopub.status.busy": "2023-12-23T17:11:02.599764Z",
     "iopub.status.idle": "2023-12-23T17:11:03.787394Z",
     "shell.execute_reply": "2023-12-23T17:11:03.786079Z",
     "shell.execute_reply.started": "2023-12-23T17:11:02.600124Z"
    },
    "papermill": {
     "duration": null,
     "end_time": null,
     "exception": null,
     "start_time": null,
     "status": "pending"
    },
    "tags": []
   },
   "outputs": [],
   "source": [
    "training_data_all_info.to_csv(\"training_data.csv\",index=False)\n",
    "testing_data_all_info.to_csv(\"testing_data.csv\",index=False)"
   ]
  },
  {
   "cell_type": "code",
   "execution_count": null,
   "id": "ee4c6b06",
   "metadata": {
    "execution": {
     "iopub.execute_input": "2023-12-23T17:11:07.338115Z",
     "iopub.status.busy": "2023-12-23T17:11:07.336879Z",
     "iopub.status.idle": "2023-12-23T17:11:07.346249Z",
     "shell.execute_reply": "2023-12-23T17:11:07.345202Z",
     "shell.execute_reply.started": "2023-12-23T17:11:07.338076Z"
    },
    "papermill": {
     "duration": null,
     "end_time": null,
     "exception": null,
     "start_time": null,
     "status": "pending"
    },
    "tags": []
   },
   "outputs": [],
   "source": [
    "def custom_training_data_generator(training_data_all_info, multi_hot_encoded_Y_train, mb_size):\n",
    "    \n",
    "    idx = list(training_data_all_info.index)\n",
    "    np.random.shuffle(idx)\n",
    "    training_data_all_info = training_data_all_info.iloc[idx]\n",
    "    multi_hot_encoded_Y_train = multi_hot_encoded_Y_train[idx]\n",
    "    \n",
    "    for time_step in range(training_data_all_info.shape[0]//mb_size):\n",
    "        \n",
    "        X_train_mb = list()\n",
    "        \n",
    "        for single_img_path in training_data_all_info.iloc[time_step*mb_size:(time_step+1)*mb_size][\"Image Path\"]:\n",
    "            \n",
    "            resized_single_img =  cv2.resize(np.array(Image.open(single_img_path).convert(\"RGB\")),(1024,1024))\n",
    "            X_train_mb.append(resized_single_img)\n",
    "            \n",
    "        X_train_mb = np.array(X_train_mb)\n",
    "        Y_train_mb = multi_hot_encoded_Y_train[time_step*mb_size:(time_step+1)*mb_size]\n",
    "        \n",
    "        yield X_train_mb, Y_train_mb"
   ]
  },
  {
   "cell_type": "code",
   "execution_count": null,
   "id": "515420f6",
   "metadata": {
    "execution": {
     "iopub.execute_input": "2023-12-23T17:11:08.985343Z",
     "iopub.status.busy": "2023-12-23T17:11:08.984933Z",
     "iopub.status.idle": "2023-12-23T17:11:08.996693Z",
     "shell.execute_reply": "2023-12-23T17:11:08.995282Z",
     "shell.execute_reply.started": "2023-12-23T17:11:08.985307Z"
    },
    "papermill": {
     "duration": null,
     "end_time": null,
     "exception": null,
     "start_time": null,
     "status": "pending"
    },
    "tags": []
   },
   "outputs": [],
   "source": [
    "def custom_testing_data_generator(testing_data_all_info, multi_hot_encoded_Y_test, mb_size):\n",
    "    \n",
    "    for time_step in range(testing_data_all_info.shape[0]//mb_size):\n",
    "        \n",
    "        X_test_mb = list()\n",
    "        \n",
    "        for single_img_path in testing_data_all_info.iloc[time_step*mb_size:(time_step+1)*mb_size][\"Image Path\"]:\n",
    "            \n",
    "            resized_single_img =  cv2.resize(np.array(Image.open(single_img_path).convert(\"RGB\")),(1024,1024))\n",
    "            X_test_mb.append(resized_single_img)\n",
    "            \n",
    "        X_test_mb = np.array(X_test_mb)\n",
    "        Y_test_mb = multi_hot_encoded_Y_test[time_step*mb_size:(time_step+1)*mb_size]\n",
    "        \n",
    "        bbox_mb = np.array(testing_data_all_info.iloc[time_step*mb_size:(time_step+1)*mb_size,2:6])\n",
    "        centroid_mb = bbox_mb[:,0:2] + 0.5*np.concatenate((bbox_mb[:,3],bbox_mb[:,2]),axis=1)\n",
    "        \n",
    "        img_size_mb = np.array(testing_data_all_info.iloc[time_step*mb_size:(time_step+1)*mb_size,8:10])\n",
    "        ordered_img_size_mb = np.concatenate((img_size_mb[:,1],img_size_mb[:,0]),axis=1)\n",
    "        rescaled_centroid_mb = centroid_mb * (32/ordered_centroid_mb)\n",
    "        \n",
    "        yield X_test_mb, Y_test_mb, rescaled_centroid_mb"
   ]
  },
  {
   "cell_type": "code",
   "execution_count": null,
   "id": "42c700fa",
   "metadata": {
    "execution": {
     "iopub.execute_input": "2023-12-23T17:11:10.345306Z",
     "iopub.status.busy": "2023-12-23T17:11:10.344924Z",
     "iopub.status.idle": "2023-12-23T17:11:10.353688Z",
     "shell.execute_reply": "2023-12-23T17:11:10.352500Z",
     "shell.execute_reply.started": "2023-12-23T17:11:10.345277Z"
    },
    "papermill": {
     "duration": null,
     "end_time": null,
     "exception": null,
     "start_time": null,
     "status": "pending"
    },
    "tags": []
   },
   "outputs": [],
   "source": [
    "class GlobalLSEPooling2D(tf.keras.layers.Layer):\n",
    "    \n",
    "    def __init__(self,r_hyper_param):\n",
    "        super(GlobalLSEPooling2D, self).__init__()\n",
    "        self.r = r_hyper_param\n",
    "        \n",
    "    def call(self,concatenated_input):\n",
    "        x_star_per_channel = GlobalMaxPooling2D(keepdims=True)(concatenated_input)\n",
    "        shifted_pix_values = tf.math.exp(self.r*(concatenated_input - x_star_per_channel))\n",
    "        avged_output = GlobalAveragePooling2D(keepdims=True)(shifted_pix_values)\n",
    "        logged_output = (1/self.r)*tf.math.log(avged_output)\n",
    "        layer_output = x_star_per_channel + logged_output\n",
    "        \n",
    "        return layer_output"
   ]
  },
  {
   "cell_type": "code",
   "execution_count": null,
   "id": "a53aba1e",
   "metadata": {
    "execution": {
     "iopub.execute_input": "2023-12-23T17:11:11.721158Z",
     "iopub.status.busy": "2023-12-23T17:11:11.720743Z",
     "iopub.status.idle": "2023-12-23T17:11:11.731910Z",
     "shell.execute_reply": "2023-12-23T17:11:11.730795Z",
     "shell.execute_reply.started": "2023-12-23T17:11:11.721123Z"
    },
    "papermill": {
     "duration": null,
     "end_time": null,
     "exception": null,
     "start_time": null,
     "status": "pending"
    },
    "tags": []
   },
   "outputs": [],
   "source": [
    "def chest_x_ray_cnn():\n",
    "    \n",
    "    input_to_cnn = Input(shape=(1024,1024,3))\n",
    "    \n",
    "    pretrained_vgg16_conv_base = VGG16(include_top=False,\n",
    "                                   input_shape=(1024,1024,3))\n",
    "    pretrained_vgg19_conv_base = VGG19(include_top=False,\n",
    "                                  input_shape=(1024,1024,3))\n",
    "    pretrained_resnet50_conv_base = ResNet50(include_top=False,\n",
    "                                        input_shape=(1024,1024,3))\n",
    "    pretrained_resnet101_conv_base = ResNet101(include_top=False,\n",
    "                                          input_shape=(1024,1024,3))\n",
    "\n",
    "    pretrained_vgg16_conv_base.trainable = False\n",
    "    pretrained_vgg19_conv_base.trainable = False\n",
    "    pretrained_resnet50_conv_base.trainable = False\n",
    "    pretrained_resnet101_conv_base.trainable = False\n",
    "    \n",
    "    vgg16_out = pretrained_vgg16_conv_base(input_to_cnn)\n",
    "    vgg19_out = pretrained_vgg19_conv_base(input_to_cnn)\n",
    "    resnet50_out = pretrained_resnet50_conv_base(input_to_cnn)\n",
    "    resnet101_out = pretrained_resnet101_conv_base(input_to_cnn)\n",
    "    \n",
    "    concatenated_output = Concatenate()([vgg16_out,vgg19_out,\n",
    "                                      resnet50_out,resnet101_out])\n",
    "    \n",
    "    pooled_output = GlobalLSEPooling2D(r_hyper_param=0.9)(concatenated_output)\n",
    "    flattened_output = Flatten()(pooled_output)\n",
    "    \n",
    "    cnn_out = Dense(units=multi_hot_encoded_Y_train.shape[1],\n",
    "                    activation=\"sigmoid\")(flattened_output)\n",
    "    \n",
    "    return Model(inputs=input_to_cnn,outputs=cnn_out)"
   ]
  },
  {
   "cell_type": "code",
   "execution_count": null,
   "id": "eaa0a19c",
   "metadata": {
    "execution": {
     "iopub.execute_input": "2023-12-23T17:11:13.321267Z",
     "iopub.status.busy": "2023-12-23T17:11:13.320900Z",
     "iopub.status.idle": "2023-12-23T17:11:42.168860Z",
     "shell.execute_reply": "2023-12-23T17:11:42.167797Z",
     "shell.execute_reply.started": "2023-12-23T17:11:13.321237Z"
    },
    "papermill": {
     "duration": null,
     "end_time": null,
     "exception": null,
     "start_time": null,
     "status": "pending"
    },
    "tags": []
   },
   "outputs": [],
   "source": [
    "our_custom_cnn = chest_x_ray_cnn()"
   ]
  },
  {
   "cell_type": "code",
   "execution_count": null,
   "id": "f02ed952",
   "metadata": {
    "execution": {
     "iopub.execute_input": "2023-12-23T17:11:54.560990Z",
     "iopub.status.busy": "2023-12-23T17:11:54.560540Z",
     "iopub.status.idle": "2023-12-23T17:11:54.569270Z",
     "shell.execute_reply": "2023-12-23T17:11:54.567972Z",
     "shell.execute_reply.started": "2023-12-23T17:11:54.560958Z"
    },
    "papermill": {
     "duration": null,
     "end_time": null,
     "exception": null,
     "start_time": null,
     "status": "pending"
    },
    "tags": []
   },
   "outputs": [],
   "source": [
    "def weighted_bcel(Y_train_mb,Y_pred_mb):\n",
    "    \n",
    "    cardinality_p = np.count_nonzero(Y_train_mb)\n",
    "    cardinality_n = (Y_train_mb.shape[0]*Y_train_mb.shape[1]) - cardinality_p\n",
    "    \n",
    "    beta_p = (cardinality_p + cardinality_n + 10**(-7))/(cardinality_p + 10**(-7))\n",
    "    beta_n = (cardinality_p + cardinality_n + 10**(-7))/(cardinality_n + 10**(-7))\n",
    "    \n",
    "    return -tf.reduce_mean(tf.reduce_mean(beta_p*Y_train_mb*tf.math.log(Y_pred_mb) \\\n",
    "                          + beta_n*(1-Y_train_mb)*tf.math.log(1-Y_pred_mb),axis=0))"
   ]
  },
  {
   "cell_type": "code",
   "execution_count": null,
   "id": "f279c97e",
   "metadata": {
    "execution": {
     "iopub.execute_input": "2023-12-23T17:11:55.934861Z",
     "iopub.status.busy": "2023-12-23T17:11:55.934439Z",
     "iopub.status.idle": "2023-12-23T17:11:55.943208Z",
     "shell.execute_reply": "2023-12-23T17:11:55.941800Z",
     "shell.execute_reply.started": "2023-12-23T17:11:55.934828Z"
    },
    "papermill": {
     "duration": null,
     "end_time": null,
     "exception": null,
     "start_time": null,
     "status": "pending"
    },
    "tags": []
   },
   "outputs": [],
   "source": [
    "def compute_performance_metrics(Y_pred,Y_true,thresh):\n",
    "    \n",
    "    Y_pred = Y_pred > thresh\n",
    "    confusion_matrix = multilabel_confusion_matrix(y_true=Y_true,y_pred=Y_pred)\n",
    "    summed_confusion_matrix = np.sum(confusion_matrix,axis=0)\n",
    "    \n",
    "    tp = summed_confusion_matrix[0,0]\n",
    "    tn = summed_confusion_matrix[1,1]\n",
    "    fp = summed_confusion_matrix[0,1]\n",
    "    fn = summed_confusion_matrix[1,0]\n",
    "    \n",
    "    accuracy = (tp+tn)/(tp+tn+fp+fn)\n",
    "    precision = tp/(tp+fp)\n",
    "    recall = tp/(tp+fn)\n",
    "    \n",
    "    return accuracy,precision,recall    "
   ]
  },
  {
   "cell_type": "code",
   "execution_count": null,
   "id": "133437f0",
   "metadata": {
    "execution": {
     "iopub.execute_input": "2023-12-23T17:11:59.967686Z",
     "iopub.status.busy": "2023-12-23T17:11:59.967218Z",
     "iopub.status.idle": "2023-12-23T17:11:59.975754Z",
     "shell.execute_reply": "2023-12-23T17:11:59.974395Z",
     "shell.execute_reply.started": "2023-12-23T17:11:59.967638Z"
    },
    "papermill": {
     "duration": null,
     "end_time": null,
     "exception": null,
     "start_time": null,
     "status": "pending"
    },
    "tags": []
   },
   "outputs": [],
   "source": [
    "def predicted_center_pixel_cords(heatmaps):\n",
    "    \n",
    "    argmax = list()\n",
    "    for single_heatmap in heatmaps:\n",
    "        \n",
    "        heatmap_channels = cv2.split(single_heatmap)\n",
    "        argmax_per_heatmap = list()\n",
    "    \n",
    "        for single_heatmap_channel in heatmap_channels:    \n",
    "            single_channel_max_loc = list(np.unravel_index(np.argmax(single_heatmap_channel),single_heatmap_channel.shape))\n",
    "            argmax_per_heatmap.append(single_channel_max_loc)\n",
    "        \n",
    "        argmax.append(np.array(argmax_per_heatmap)/np.array([[7,7]])*224)\n",
    "        \n",
    "    return np.array(argmax)"
   ]
  },
  {
   "cell_type": "code",
   "execution_count": null,
   "id": "57219515",
   "metadata": {
    "execution": {
     "iopub.execute_input": "2023-12-23T17:12:03.552875Z",
     "iopub.status.busy": "2023-12-23T17:12:03.552456Z",
     "iopub.status.idle": "2023-12-23T17:12:03.564185Z",
     "shell.execute_reply": "2023-12-23T17:12:03.562662Z",
     "shell.execute_reply.started": "2023-12-23T17:12:03.552843Z"
    },
    "papermill": {
     "duration": null,
     "end_time": null,
     "exception": null,
     "start_time": null,
     "status": "pending"
    },
    "tags": []
   },
   "outputs": [],
   "source": [
    "conv_base = Model(inputs=[our_custom_cnn.input],outputs=[our_custom_cnn.layers[5].output])"
   ]
  },
  {
   "cell_type": "code",
   "execution_count": null,
   "id": "cfec9358",
   "metadata": {
    "execution": {
     "iopub.execute_input": "2023-12-23T17:12:06.433449Z",
     "iopub.status.busy": "2023-12-23T17:12:06.432986Z"
    },
    "papermill": {
     "duration": null,
     "end_time": null,
     "exception": null,
     "start_time": null,
     "status": "pending"
    },
    "tags": []
   },
   "outputs": [],
   "source": [
    "optimizer = tf.keras.optimizers.RMSprop()\n",
    "\n",
    "num_epochs = 25\n",
    "time_steps = 0\n",
    "mb_size = 2\n",
    "\n",
    "for epoch in range(num_epochs):\n",
    "    for X_train_mb,Y_train_mb in custom_training_data_generator(training_data_all_info,multi_hot_encoded_Y_train,mb_size):\n",
    "        \n",
    "        with tf.GradientTape() as tape:\n",
    "            \n",
    "            Y_pred_mb = our_custom_cnn(X_train_mb)\n",
    "            w_bcel_value = weighted_bcel(Y_train_mb,Y_pred_mb)\n",
    "            \n",
    "        gradients = tape.gradient(w_bcel_value,our_custom_cnn.trainable_weights)\n",
    "        optimizer.apply_gradients(zip(gradients,our_custom_cnn.trainable_weights))\n",
    "        \n",
    "        train_acc,train_pre,train_rec = compute_performance_metrics(Y_pred_mb,Y_train_mb,0.5)\n",
    "        \n",
    "        time_steps += 1\n",
    "            \n",
    "        print(\"\\n\\nEpoch # {}, Time Step # {}\".format(epoch,time_steps))\n",
    "        print(\"WBCEL Value = {}, Training Accuracy = {}, Training Precision = {}, Training Recall = {}\".format(w_bcel_value,\n",
    "                                                                                                              train_acc,\n",
    "                                                                                                              train_pre,\n",
    "                                                                                                              train_rec))\n",
    "        conv_base_out = conv_base(X_train_mb).numpy()\n",
    "        cls_head_params = our_custom_cnn.layers[-1].weights[0].numpy()\n",
    "        \n",
    "        heatmaps = np.matmul(conv_base_out,cls_head_params)\n",
    "        pred_center_pix_loc = predicted_center_pixel_cords(heatmaps)\n",
    "        \n",
    "        print(\"Epoch # {}, Time Step # {}, Predicted Location of Each Disease for Chest X-rays in Mini Batch:\".format(epoch,\n",
    "                                                                                                                     time_steps))\n",
    "        print(pred_center_pix_loc)"
   ]
  },
  {
   "cell_type": "code",
   "execution_count": null,
   "id": "663607e9",
   "metadata": {
    "papermill": {
     "duration": null,
     "end_time": null,
     "exception": null,
     "start_time": null,
     "status": "pending"
    },
    "tags": []
   },
   "outputs": [],
   "source": [
    "print(\"\\n\\n\\n\\n\")\n",
    "\n",
    "thresh_probability = np.arange(start=0.3,stop=0.8,step=0.1)\n",
    "fold_size = 123\n",
    "K = testing_data_all_info.shape[0]//fold_size\n",
    "\n",
    "for fold_idx in range(K):\n",
    "    for p_thresh in thresh_probability:\n",
    "        \n",
    "        cv_data = pd.concat([testing_data_all_info[0:(fold_idx*fold_size)],\n",
    "                             testing_data_all_info[(fold_idx+1)*fold_size:]],axis=0)\n",
    "        \n",
    "        testing_data = testing_data_all_info[(fold_idx*fold_size):(fold_idx+1)*fold_size]\n",
    "        \n",
    "        multi_hot_encoded_Y_cv = np.concatenate((multi_hot_encoded_Y_test[0:(fold_idx*fold_size)],\n",
    "                                                multi_hot_encoded_Y_test[(fold_idx+1)*fold_size:]),\n",
    "                                                axis=0)\n",
    "        \n",
    "        multi_hot_encoded_Y_test = multi_hot_encoded_Y_test[(fold_idx*fold_size):(fold_idx+1)*fold_size]\n",
    "        \n",
    "        X_cv, Y_cv, rescaled_centroid_cv = custom_testing_data_generator(cv_data,multi_hot_encoded_Y_cv,\n",
    "                                                                         cv_data.shape[0])\n",
    "        \n",
    "        X_test, Y_test, rescaled_centroid_test = custom_testing_data_generator(testing_data,\n",
    "                                                                               multi_hot_encoded_Y_test,\n",
    "                                                                               testing_data.shape[0])\n",
    "        \n",
    "        Y_pred_cv = our_custom_cnn(X_cv)\n",
    "        cv_acc,cv_pre,cv_rec = compute_performance_metrics(Y_pred_cv,Y_cv,p_thresh)\n",
    "        \n",
    "        cv_conv_base_out = conv_base(X_cv).numpy()\n",
    "        cv_heatmaps = np.matmul(cv_conv_base_out,cls_head_weights)\n",
    "        \n",
    "        Y_pred_test = our_custom_cnn(X_test)\n",
    "        test_acc,test_pre,test_rec = compute_performance_metrics(Y_pred_test,Y_test,p_thresh)\n",
    "        \n",
    "        test_conv_base_out = conv_base(X_test).numpy()\n",
    "        test_heatmaps = np.matmul(test_conv_base_out,cls_head_weights)\n",
    "        \n",
    "        print(\"Threshold Probability: {}, CV Acc: {}, CV Prec: {}, CV Rec: {}\".format(p_thresh,cv_acc,\n",
    "                                                                                            cv_pre,\n",
    "                                                                                            cv_rec))\n",
    "        \n",
    "        print(\"Threshold Probability: {}, Test Acc: {}, Test Prec: {}, Test Rec: {}\".format(p_thresh,\n",
    "                                                                                           test_acc,\n",
    "                                                                                           test_pre,\n",
    "                                                                                           test_rec))"
   ]
  }
 ],
 "metadata": {
  "kaggle": {
   "accelerator": "none",
   "dataSources": [
    {
     "datasetId": 5839,
     "sourceId": 18613,
     "sourceType": "datasetVersion"
    }
   ],
   "dockerImageVersionId": 30626,
   "isGpuEnabled": false,
   "isInternetEnabled": false,
   "language": "python",
   "sourceType": "notebook"
  },
  "kernelspec": {
   "display_name": "Python 3",
   "language": "python",
   "name": "python3"
  },
  "language_info": {
   "codemirror_mode": {
    "name": "ipython",
    "version": 3
   },
   "file_extension": ".py",
   "mimetype": "text/x-python",
   "name": "python",
   "nbconvert_exporter": "python",
   "pygments_lexer": "ipython3",
   "version": "3.10.12"
  },
  "papermill": {
   "default_parameters": {},
   "duration": 26.714276,
   "end_time": "2024-01-21T18:54:17.838801",
   "environment_variables": {},
   "exception": true,
   "input_path": "__notebook__.ipynb",
   "output_path": "__notebook__.ipynb",
   "parameters": {},
   "start_time": "2024-01-21T18:53:51.124525",
   "version": "2.4.0"
  }
 },
 "nbformat": 4,
 "nbformat_minor": 5
}
